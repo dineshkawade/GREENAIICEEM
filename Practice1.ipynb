{
 "cells": [
  {
   "cell_type": "code",
   "execution_count": 10,
   "id": "2fd55e32-0b83-4033-afeb-03d97cbd5732",
   "metadata": {},
   "outputs": [
    {
     "name": "stdin",
     "output_type": "stream",
     "text": [
      "Enter a number: 10\n",
      "Enter another numeber: 10\n"
     ]
    },
    {
     "name": "stdout",
     "output_type": "stream",
     "text": [
      "addition= {20} mul= {100} division {0}\t"
     ]
    }
   ],
   "source": [
    "#input a number\n",
    "a=int(input(\"Enter a number:\"))\n",
    "b=int(input(\"Enter another numeber:\"))\n",
    "print(f\"addition=\",{a+b},\"mul=\",{a*b},\"division\",{a%b},end=\"\\t\")"
   ]
  },
  {
   "cell_type": "code",
   "execution_count": 12,
   "id": "def5e955-74b9-455b-b150-a54ba8bd9141",
   "metadata": {},
   "outputs": [
    {
     "name": "stdin",
     "output_type": "stream",
     "text": [
      "Enter a number: 3\n"
     ]
    },
    {
     "name": "stdout",
     "output_type": "stream",
     "text": [
      "ODD NUMBER 3\n"
     ]
    }
   ],
   "source": [
    "#even/odd\n",
    "number=eval(input(\"Enter a number:\"))\n",
    "if number%2==0:\n",
    "    print(\"EVEN NUMBER!\",number)\n",
    "else:\n",
    "    print(\"ODD NUMBER\",number)\n",
    "    "
   ]
  },
  {
   "cell_type": "code",
   "execution_count": 13,
   "id": "f52d2189-c364-4ff7-83de-dd5d151f6a18",
   "metadata": {},
   "outputs": [
    {
     "name": "stdout",
     "output_type": "stream",
     "text": [
      "value of a 2\n",
      "value of b 1\n"
     ]
    }
   ],
   "source": [
    "#swipe\n",
    "a=1\n",
    "b=2\n",
    "a,b=b,a\n",
    "print(\"value of a\",a)\n",
    "print(\"value of b\",b)"
   ]
  },
  {
   "cell_type": "code",
   "execution_count": 21,
   "id": "946e8f7a-cbcc-41ef-9c8f-6f7e01beb62d",
   "metadata": {},
   "outputs": [
    {
     "name": "stdin",
     "output_type": "stream",
     "text": [
      "Enter 1st number: 87\n",
      "Enter 2nd number: 55\n",
      "Enter 3rd number: 10\n"
     ]
    },
    {
     "name": "stdout",
     "output_type": "stream",
     "text": [
      "the largest number is: 87\n"
     ]
    }
   ],
   "source": [
    "#Largest among three\n",
    "num1=eval(input(\"Enter 1st number:\"))\n",
    "num2=eval(input(\"Enter 2nd number:\"))\n",
    "num3=eval(input(\"Enter 3rd number:\"))\n",
    "if num1>num2:\n",
    "    if num1>num3:\n",
    "        print(\"the largest number is:\",num1)\n",
    "elif num2>num3:\n",
    "        print(\"The largest number is:\",num1)\n",
    "else:\n",
    "    print(\"The largest number is :\",num3)"
   ]
  },
  {
   "cell_type": "code",
   "execution_count": 50,
   "id": "145c12b9-ed7d-45e5-acf9-9f06bfe017e7",
   "metadata": {},
   "outputs": [
    {
     "name": "stdin",
     "output_type": "stream",
     "text": [
      "Enter a non-negative integer:  5\n"
     ]
    },
    {
     "name": "stdout",
     "output_type": "stream",
     "text": [
      "The factorial of 5 is 120\n"
     ]
    }
   ],
   "source": [
    "def factorial(n):\n",
    "    if n < 0:\n",
    "        return None\n",
    "    elif n == 0:\n",
    "        return 1\n",
    "    else:\n",
    "        result = 1\n",
    "        for i in range(1, n + 1):\n",
    "            result *= i\n",
    "        return result\n",
    "\n",
    "try:\n",
    "    num = int(input(\"Enter a non-negative integer: \"))\n",
    "    fact = factorial(num)\n",
    "    if fact is not None:\n",
    "        print(f\"The factorial of {num} is {fact}\")\n",
    "    else:\n",
    "        print(\"Factorial is not defined for negative numbers.\")\n",
    "except ValueError:\n",
    "    print(\"Invalid input. Please enter an integer.\")"
   ]
  },
  {
   "cell_type": "code",
   "execution_count": 2,
   "id": "2cd423b8-fe6e-491f-9031-f855aa610818",
   "metadata": {},
   "outputs": [
    {
     "name": "stdout",
     "output_type": "stream",
     "text": [
      "List of numbers: [10, 25, 5, 15, 30]\n",
      "Sum of the elements: 85\n"
     ]
    }
   ],
   "source": [
    "# Write a Python program to create a list of 5 numbers and find the sum of elements.\n",
    "numbers = [10, 25, 5, 15, 30]\n",
    "sum_of_elements = sum(numbers)\n",
    "print(\"List of numbers:\", numbers)\n",
    "print(\"Sum of the elements:\", sum_of_elements)"
   ]
  },
  {
   "cell_type": "code",
   "execution_count": 4,
   "id": "a8851705-eec3-4884-82de-0b849a8f47f8",
   "metadata": {},
   "outputs": [
    {
     "name": "stdout",
     "output_type": "stream",
     "text": [
      "3\n"
     ]
    }
   ],
   "source": [
    "#Dice \n",
    "from numpy import random\n",
    "x = random.choice([1, 2, 3, 4, 5, 6] )\n",
    "print(x)"
   ]
  },
  {
   "cell_type": "code",
   "execution_count": 4,
   "id": "f70c0f4a-1abd-4960-8d7a-5e66d9129adb",
   "metadata": {},
   "outputs": [
    {
     "name": "stdout",
     "output_type": "stream",
     "text": [
      "Original list: [1, 2, 2, 3, 4, 4, 5, 1, 6]\n",
      "List with duplicates removed (using set): [1, 2, 3, 4, 5, 6]\n",
      "\n",
      "Original string list: ['apple', 'banana', 'apple', 'orange', 'banana']\n",
      "List with duplicate strings removed (using set): ['apple', 'banana', 'orange']\n"
     ]
    }
   ],
   "source": [
    "#7Write a program to remove duplicates from a list using a set.\n",
    "def remove_duplicates_using_set(input_list):\n",
    "  unique_elements = set(input_list)\n",
    "  return list(unique_elements)\n",
    "my_list = [1, 2, 2, 3, 4, 4, 5, 1, 6]\n",
    "unique_list = remove_duplicates_using_set(my_list)\n",
    "print(\"Original list:\", my_list)\n",
    "print(\"List with duplicates removed (using set):\", unique_list)\n",
    "string_list = [\"apple\", \"banana\", \"apple\", \"orange\", \"banana\"]\n",
    "unique_string_list = remove_duplicates_using_set(string_list)\n",
    "print(\"\\nOriginal string list:\", string_list)\n",
    "print(\"List with duplicate strings removed (using set):\", unique_string_list)"
   ]
  },
  {
   "cell_type": "code",
   "execution_count": 6,
   "id": "601e4892-56ac-486d-b1ad-59ab501cfbdd",
   "metadata": {},
   "outputs": [
    {
     "name": "stdout",
     "output_type": "stream",
     "text": [
      "Students who scored more than 75:\n",
      "Alice\n",
      "Charlie\n",
      "Eve\n"
     ]
    }
   ],
   "source": [
    "#8Create a dictionary to store student names and marks. Print names of students who scored morethan 75.\n",
    "def find_top_students(student_data):\n",
    "  student_marks = {}\n",
    "  for name, marks in student_data:\n",
    "    student_marks[name] = marks\n",
    "  print(\"Students who scored more than 75:\")\n",
    "  for name, marks in student_marks.items():\n",
    "    if marks > 75:\n",
    "      print(name)\n",
    "student_info = [\n",
    "    (\"Alice\", 85),\n",
    "    (\"Bob\", 70),\n",
    "    (\"Charlie\", 92),\n",
    "    (\"David\", 68),\n",
    "    (\"Eve\", 78),\n",
    "    (\"Frank\", 55)\n",
    "]\n",
    "\n",
    "find_top_students(student_info)"
   ]
  },
  {
   "cell_type": "code",
   "execution_count": 8,
   "id": "f8d6475e-d44f-4850-aa9e-71dd98abe3f2",
   "metadata": {},
   "outputs": [
    {
     "name": "stdout",
     "output_type": "stream",
     "text": [
      "Original tuple: (10, 20, 30, 40, 50)\n",
      "Reversed tuple: (50, 40, 30, 20, 10)\n"
     ]
    }
   ],
   "source": [
    "#9Create a tuple of 5 elements and print its reverse.\n",
    "my_tuple = (10, 20, 30, 40, 50)\n",
    "reversed_tuple = my_tuple[::-1]\n",
    "print(\"Original tuple:\", my_tuple)\n",
    "print(\"Reversed tuple:\", reversed_tuple)"
   ]
  },
  {
   "cell_type": "code",
   "execution_count": 10,
   "id": "97dd85aa-101e-40d6-bef8-2dc09791a3b1",
   "metadata": {},
   "outputs": [
    {
     "name": "stdout",
     "output_type": "stream",
     "text": [
      "The number of vowels in 'Hello World' is: 3\n",
      "The number of vowels in 'Programming is Fun' is: 5\n",
      "The number of vowels in 'AEIOUaeiou' is: 10\n",
      "The number of vowels in 'Rhythm' is: 0\n"
     ]
    }
   ],
   "source": [
    "#10Write a program to count the number of vowels in a given string using a list.\n",
    "def count_vowels_using_list(input_string):\n",
    "  vowels = ['a', 'e', 'i', 'o', 'u']\n",
    "  vowel_count = 0\n",
    "  for char in input_string.lower(): \n",
    "    if char in vowels:\n",
    "      vowel_count += 1\n",
    "  return vowel_count\n",
    "text1 = \"Hello World\"\n",
    "vowel_count1 = count_vowels_using_list(text1)\n",
    "print(f\"The number of vowels in '{text1}' is: {vowel_count1}\")\n",
    "\n",
    "text2 = \"Programming is Fun\"\n",
    "vowel_count2 = count_vowels_using_list(text2)\n",
    "print(f\"The number of vowels in '{text2}' is: {vowel_count2}\")\n",
    "\n",
    "text3 = \"AEIOUaeiou\"\n",
    "vowel_count3 = count_vowels_using_list(text3)\n",
    "print(f\"The number of vowels in '{text3}' is: {vowel_count3}\")\n",
    "\n",
    "text4 = \"Rhythm\"\n",
    "vowel_count4 = count_vowels_using_list(text4)\n",
    "print(f\"The number of vowels in '{text4}' is: {vowel_count4}\")"
   ]
  },
  {
   "cell_type": "code",
   "execution_count": 11,
   "id": "e1c36ff4-49c2-4527-8653-107f5ad3bf38",
   "metadata": {},
   "outputs": [
    {
     "name": "stdout",
     "output_type": "stream",
     "text": [
      "True\n",
      "False\n",
      "True\n",
      "False\n",
      "False\n",
      "False\n",
      "False\n",
      "False\n",
      "False\n",
      "True\n"
     ]
    }
   ],
   "source": [
    "#11Write a function to check if a number is prime.\n",
    "import math\n",
    "\n",
    "def is_prime(number):\n",
    "\n",
    "  if number <= 1:\n",
    "    return False\n",
    "  if number <= 3:\n",
    "    return True\n",
    "  if number % 2 == 0 or number % 3 == 0:\n",
    "    return False\n",
    "  i = 5\n",
    "  while i * i <= number:\n",
    "    if number % i == 0 or number % (i + 2) == 0:\n",
    "      return False\n",
    "    i += 6\n",
    "  return True\n",
    "\n",
    "\n",
    "print(is_prime(2))  \n",
    "print(is_prime(10))  \n",
    "print(is_prime(17))  \n",
    "print(is_prime(1))   \n",
    "print(is_prime(0))   \n",
    "print(is_prime(-5))  \n",
    "print(is_prime(4))   \n",
    "print(is_prime(9))   \n",
    "print(is_prime(100)) \n",
    "print(is_prime(101)) "
   ]
  },
  {
   "cell_type": "code",
   "execution_count": 13,
   "id": "25ff91d2-b13b-49cd-8daf-e65c4c3829d4",
   "metadata": {},
   "outputs": [
    {
     "name": "stdout",
     "output_type": "stream",
     "text": [
      "Fibonacci series up to 10 terms: [0, 1, 1, 2, 3, 5, 8, 13, 21, 34]\n",
      "Fibonacci series up to 5 terms: [0, 1, 1, 2, 3]\n",
      "Fibonacci series up to 1 term: [0]\n",
      "Fibonacci series up to 0 terms: []\n"
     ]
    }
   ],
   "source": [
    "#12 Write a function that returns the Fibonacci series up to n terms.\n",
    "def fibonacci_series(n):\n",
    "  if n <= 0:\n",
    "    return []\n",
    "  elif n == 1:\n",
    "    return [0]\n",
    "  else:\n",
    "    list_fib = [0, 1]\n",
    "    while len(list_fib) < n:\n",
    "      next_fib = list_fib[-1] + list_fib[-2]\n",
    "      list_fib.append(next_fib)\n",
    "    return list_fib\n",
    "num_terms = 10\n",
    "fib_series = fibonacci_series(num_terms)\n",
    "print(f\"Fibonacci series up to {num_terms} terms: {fib_series}\")\n",
    "\n",
    "num_terms = 5\n",
    "fib_series = fibonacci_series(num_terms)\n",
    "print(f\"Fibonacci series up to {num_terms} terms: {fib_series}\")\n",
    "\n",
    "num_terms = 1\n",
    "fib_series = fibonacci_series(num_terms)\n",
    "print(f\"Fibonacci series up to {num_terms} term: {fib_series}\")\n",
    "\n",
    "num_terms = 0\n",
    "fib_series = fibonacci_series(num_terms)\n",
    "print(f\"Fibonacci series up to {num_terms} terms: {fib_series}\")"
   ]
  },
  {
   "cell_type": "code",
   "execution_count": 15,
   "id": "e284dbf7-6179-4928-a9e0-c06b511a544a",
   "metadata": {},
   "outputs": [
    {
     "name": "stdout",
     "output_type": "stream",
     "text": [
      "Multiplication Table of 14:\n",
      "14 x 1 = 14\n",
      "14 x 2 = 28\n",
      "14 x 3 = 42\n",
      "14 x 4 = 56\n",
      "14 x 5 = 70\n",
      "14 x 6 = 84\n",
      "14 x 7 = 98\n",
      "14 x 8 = 112\n",
      "14 x 9 = 126\n",
      "14 x 10 = 140\n"
     ]
    }
   ],
   "source": [
    "#13Write a program using a while loop to print the multiplication table of a number.14.\n",
    "def multiplication_table(number):\n",
    "  i = 1\n",
    "  while i <= 10:\n",
    "    result = number * i\n",
    "    print(f\"{number} x {i} = {result}\")\n",
    "    i += 1\n",
    "num = 14\n",
    "print(f\"Multiplication Table of {num}:\")\n",
    "multiplication_table(num)"
   ]
  },
  {
   "cell_type": "code",
   "execution_count": 19,
   "id": "2dfe8c75-c005-47f1-8caf-9d1cc520169e",
   "metadata": {},
   "outputs": [
    {
     "name": "stdout",
     "output_type": "stream",
     "text": [
      "The sum of digits of 12345 is: 15\n",
      "The sum of digits of 987 is: 24\n",
      "The sum of digits of 0 is: 0\n",
      "The sum of digits of -567 is: 18\n"
     ]
    }
   ],
   "source": [
    "#14Write a program to find the sum of digits of a number using a loop.\n",
    "def sum_of_digits(number):\n",
    "  if number < 0:\n",
    "    number = abs(number) \n",
    "  sum_digits = 0\n",
    "  while number > 0:\n",
    "    digit = number % 10  \n",
    "    sum_digits += digit\n",
    "    number //= 10  \n",
    "  return sum_digits\n",
    "num1 = 12345\n",
    "sum1 = sum_of_digits(num1)\n",
    "print(f\"The sum of digits of {num1} is: {sum1}\")\n",
    "\n",
    "num2 = 987\n",
    "sum2 = sum_of_digits(num2)\n",
    "print(f\"The sum of digits of {num2} is: {sum2}\")\n",
    "\n",
    "num3 = 0\n",
    "sum3 = sum_of_digits(num3)\n",
    "print(f\"The sum of digits of {num3} is: {sum3}\")\n",
    "\n",
    "num4 = -567\n",
    "sum4 = sum_of_digits(num4)\n",
    "print(f\"The sum of digits of {num4} is: {sum4}\")"
   ]
  },
  {
   "cell_type": "code",
   "execution_count": null,
   "id": "96ca5388-0d0c-411c-a397-4d4deb7bc935",
   "metadata": {},
   "outputs": [],
   "source": []
  }
 ],
 "metadata": {
  "kernelspec": {
   "display_name": "Python 3 (ipykernel)",
   "language": "python",
   "name": "python3"
  },
  "language_info": {
   "codemirror_mode": {
    "name": "ipython",
    "version": 3
   },
   "file_extension": ".py",
   "mimetype": "text/x-python",
   "name": "python",
   "nbconvert_exporter": "python",
   "pygments_lexer": "ipython3",
   "version": "3.12.7"
  }
 },
 "nbformat": 4,
 "nbformat_minor": 5
}
