{
 "cells": [
  {
   "cell_type": "code",
   "execution_count": 1,
   "id": "08c799f0-407b-41bc-aa5b-11d3800ea378",
   "metadata": {},
   "outputs": [
    {
     "name": "stdout",
     "output_type": "stream",
     "text": [
      "The area of a circle with radius 5 is: 78.53981633974483\n",
      "The area of a circle with radius 2.3 is: 16.619025137490002\n",
      "The area of a circle with radius -3 is: 0\n",
      "The area of a circle with radius 0 is: 0.0\n",
      "Error: Radius must be a number.\n"
     ]
    }
   ],
   "source": [
    "#Write a Python function that calculates the area of a circle (given radius)\n",
    "import math\n",
    "\n",
    "def calculate_circle_area(radius):\n",
    " \n",
    "    if not isinstance(radius, (int, float)):\n",
    "        raise TypeError(\"Radius must be a number.\")\n",
    "    if radius < 0:\n",
    "        return 0 \n",
    "    return math.pi * radius * radius\n",
    "\n",
    "# Example Usage\n",
    "if __name__ == \"__main__\":\n",
    "    radius1 = 5\n",
    "    area1 = calculate_circle_area(radius1)\n",
    "    print(f\"The area of a circle with radius {radius1} is: {area1}\")  # Output with formatting\n",
    "\n",
    "    radius2 = 2.3\n",
    "    area2 = calculate_circle_area(radius2)\n",
    "    print(f\"The area of a circle with radius {radius2} is: {area2}\")\n",
    "\n",
    "    radius3 = -3\n",
    "    area3 = calculate_circle_area(radius3)\n",
    "    print(f\"The area of a circle with radius {radius3} is: {area3}\")\n",
    "\n",
    "    radius4 = 0\n",
    "    area4 = calculate_circle_area(radius4)\n",
    "    print(f\"The area of a circle with radius {radius4} is: {area4}\")\n",
    "\n",
    "  \n",
    "    try:\n",
    "        area5 = calculate_circle_area(\"abc\")  \n",
    "        print(f\"The area of a circle with radius 'abc' is: {area5}\")\n",
    "    except TypeError as e:\n",
    "        print(f\"Error: {e}\")\n"
   ]
  },
  {
   "cell_type": "code",
   "execution_count": 2,
   "id": "83f368c4-5552-48ae-b5c2-93a3f8cb3b2d",
   "metadata": {},
   "outputs": [
    {
     "name": "stdout",
     "output_type": "stream",
     "text": [
      "Line appended successfully.\n"
     ]
    }
   ],
   "source": [
    "#Write a program to append a line of text to an existing file.\n",
    "file_name = \"example.txt\"\n",
    "text_to_append = \"This is the new line being appended.\\n\"\n",
    "\n",
    "with open(file_name, \"a\") as file:\n",
    "    file.write(text_to_append)\n",
    "\n",
    "print(\"Line appended successfully.\")\n"
   ]
  },
  {
   "cell_type": "code",
   "execution_count": 3,
   "id": "010d1477-f9b8-477c-8cca-ddc582843918",
   "metadata": {},
   "outputs": [
    {
     "name": "stdout",
     "output_type": "stream",
     "text": [
      "Name : Alice\n",
      "Roll : 101\n",
      "Marks: 89.5\n"
     ]
    }
   ],
   "source": [
    "Define a class Student with attributes name, roll, and marks. Include a method to display student details.\n",
    "class Student:\n",
    "    def __init__(self, name, roll, marks):\n",
    "        self.name = name\n",
    "        self.roll = roll\n",
    "        self.marks = marks\n",
    "\n",
    "    def display_details(self):\n",
    "        print(f\"Name : {self.name}\")\n",
    "        print(f\"Roll : {self.roll}\")\n",
    "        print(f\"Marks: {self.marks}\")\n",
    "\n",
    "student1 = Student(\"Alice\", 101, 89.5)\n",
    "student1.display_details()\n"
   ]
  },
  {
   "cell_type": "code",
   "execution_count": 4,
   "id": "e3129f50-9104-42f2-b8de-e1ec47251ec5",
   "metadata": {},
   "outputs": [
    {
     "name": "stdout",
     "output_type": "stream",
     "text": [
      "Add:        15\n",
      "Subtract:   5\n",
      "Multiply:   50\n",
      "Divide:     2.0\n"
     ]
    }
   ],
   "source": [
    "#Create a class Calculator with methods for add, subtract, multiply, and divide.\n",
    "class Calculator:\n",
    "    def add(self, a, b):\n",
    "        return a + b\n",
    "\n",
    "    def subtract(self, a, b):\n",
    "        return a - b\n",
    "\n",
    "    def multiply(self, a, b):\n",
    "        return a * b\n",
    "\n",
    "    def divide(self, a, b):\n",
    "        if b != 0:\n",
    "            return a / b\n",
    "        else:\n",
    "            return \"Error: Division by zero is not allowed.\"\n",
    "\n",
    "calc = Calculator()\n",
    "\n",
    "print(\"Add:       \", calc.add(10, 5))\n",
    "print(\"Subtract:  \", calc.subtract(10, 5))\n",
    "print(\"Multiply:  \", calc.multiply(10, 5))\n",
    "print(\"Divide:    \", calc.divide(10, 5))\n"
   ]
  },
  {
   "cell_type": "code",
   "execution_count": 7,
   "id": "3284defe-409e-4155-aaac-72d552f54797",
   "metadata": {},
   "outputs": [
    {
     "name": "stdout",
     "output_type": "stream",
     "text": [
      "Brand: Toyota\n",
      "Model: Corolla\n",
      "Doors: 4\n"
     ]
    }
   ],
   "source": [
    "#Write a program to demonstrate inheritance using a 'Vehicle' class and a 'Car' subclass.\n",
    "\n",
    "class Vehicle:\n",
    "    def __init__(self, brand, model):\n",
    "        self.brand = brand\n",
    "        self.model = model\n",
    "\n",
    "    def display_info(self):\n",
    "        print(f\"Brand: {self.brand}\")\n",
    "        print(f\"Model: {self.model}\")\n",
    "\n",
    "# Derived class\n",
    "class Car(Vehicle):\n",
    "    def __init__(self, brand, model, doors):\n",
    "        \n",
    "        super().__init__(brand, model)\n",
    "        self.doors = doors\n",
    "\n",
    "    def display_info(self):\n",
    "       \n",
    "        super().display_info()\n",
    "        print(f\"Doors: {self.doors}\")\n",
    "\n",
    "\n",
    "my_car = Car(\"Toyota\", \"Corolla\", 4)\n",
    "my_car.display_info()\n"
   ]
  },
  {
   "cell_type": "code",
   "execution_count": 8,
   "id": "8b245390-2482-4f51-a73c-744c98042d9d",
   "metadata": {},
   "outputs": [
    {
     "name": "stdout",
     "output_type": "stream",
     "text": [
      "Constructor called: Object created.\n",
      "Destructor called: Object destroyed.\n"
     ]
    }
   ],
   "source": [
    "#Demonstrate the use of constructor and destructor in a class.\n",
    "class Demo:\n",
    "    def __init__(self):\n",
    "       \n",
    "        print(\"Constructor called: Object created.\")\n",
    "\n",
    "    def __del__(self):\n",
    "       \n",
    "        print(\"Destructor called: Object destroyed.\")\n",
    "obj = Demo()\n",
    "del obj"
   ]
  },
  {
   "cell_type": "code",
   "execution_count": 1,
   "id": "115209f4-65fe-482e-b324-76da47fdd955",
   "metadata": {},
   "outputs": [
    {
     "name": "stdout",
     "output_type": "stream",
     "text": [
      "Box with volume: 10\n",
      "Box with volume: 15\n",
      "After adding:\n",
      "Box with volume: 25\n"
     ]
    }
   ],
   "source": [
    "#Write a program to overload the + operator to add two custom objects.\n",
    "class Box:\n",
    "    def __init__(self, volume):\n",
    "        self.volume = volume\n",
    "\n",
    "   \n",
    "    def __add__(self, other):\n",
    "        return Box(self.volume + other.volume)\n",
    "\n",
    "    def __str__(self):\n",
    "        return f\"Box with volume: {self.volume}\"\n",
    "\n",
    "\n",
    "box1 = Box(10)\n",
    "box2 = Box(15)\n",
    "\n",
    "\n",
    "box3 = box1 + box2\n",
    "\n",
    "\n",
    "print(box1)\n",
    "print(box2)\n",
    "print(\"After adding:\")\n",
    "print(box3)\n"
   ]
  },
  {
   "cell_type": "code",
   "execution_count": 4,
   "id": "f1da62e9-9146-4eec-a403-1b253488c336",
   "metadata": {},
   "outputs": [
    {
     "name": "stdout",
     "output_type": "stream",
     "text": [
      "Mini Calculator\n",
      "Choose operation: +  -  *  /\n"
     ]
    },
    {
     "name": "stdin",
     "output_type": "stream",
     "text": [
      "Enter operator:  +\n",
      "Enter first number:  5\n",
      "Enter second number:  6\n"
     ]
    },
    {
     "name": "stdout",
     "output_type": "stream",
     "text": [
      "Result: 11.0\n"
     ]
    }
   ],
   "source": [
    "#calculator\n",
    "def add(a, b):\n",
    "    return a + b\n",
    "\n",
    "def subtract(a, b):\n",
    "    return a - b\n",
    "\n",
    "def multiply(a, b):\n",
    "    return a * b\n",
    "\n",
    "def divide(a, b):\n",
    "    if b != 0:\n",
    "        return a / b\n",
    "    else:\n",
    "        return \"Error: Division by zero!\"\n",
    "\n",
    "\n",
    "print(\"Mini Calculator\")\n",
    "print(\"Choose operation: +  -  *  /\")\n",
    "\n",
    "choice = input(\"Enter operator: \")\n",
    "num1 = float(input(\"Enter first number: \"))\n",
    "num2 = float(input(\"Enter second number: \"))\n",
    "\n",
    "\n",
    "if choice == '+':\n",
    "    print(\"Result:\", add(num1, num2))\n",
    "elif choice == '-':\n",
    "    print(\"Result:\", subtract(num1, num2))\n",
    "elif choice == '*':\n",
    "    print(\"Result:\", multiply(num1, num2))\n",
    "elif choice == '/':\n",
    "    print(\"Result:\", divide(num1, num2))\n",
    "else:\n",
    "    print(\"Invalid operator!\")\n"
   ]
  },
  {
   "cell_type": "code",
   "execution_count": 14,
   "id": "92dcfc68-3e89-4bd4-92f5-a39accd6205d",
   "metadata": {},
   "outputs": [
    {
     "name": "stdout",
     "output_type": "stream",
     "text": [
      "=== Login System ===\n"
     ]
    },
    {
     "name": "stdin",
     "output_type": "stream",
     "text": [
      "Enter username:  22\n",
      "Enter password:  212\n"
     ]
    },
    {
     "name": "stdout",
     "output_type": "stream",
     "text": [
      "Login failed! Invalid username or password.\n"
     ]
    }
   ],
   "source": [
    "#Write a Python script to simulate a basic login system.\n",
    "\n",
    "stored_username = \"admin\"\n",
    "stored_password = \"12345\"\n",
    "\n",
    "print(\"=== Login System ===\")\n",
    "username = input(\"Enter username: \")\n",
    "password = input(\"Enter password: \")\n",
    "\n",
    "if username == stored_username and password == stored_password:\n",
    "    print(\"Login successful! Welcome,\", username)\n",
    "else:\n",
    "    print(\"Login failed! Invalid username or password.\")\n"
   ]
  },
  {
   "cell_type": "code",
   "execution_count": 15,
   "id": "4f31c00b-41d6-49fe-9434-624d3f52b3aa",
   "metadata": {},
   "outputs": [
    {
     "name": "stdin",
     "output_type": "stream",
     "text": [
      "Enter temperature in Celsius:  213\n"
     ]
    },
    {
     "name": "stdout",
     "output_type": "stream",
     "text": [
      "213.0°C is equal to 415.4°F.\n"
     ]
    }
   ],
   "source": [
    "# Function to convert Celsius to Fahrenheit\n",
    "def celsius_to_fahrenheit(celsius):\n",
    "    return (celsius * 9/5) + 32\n",
    "\n",
    "\n",
    "celsius = float(input(\"Enter temperature in Celsius: \"))\n",
    "\n",
    "\n",
    "fahrenheit = celsius_to_fahrenheit(celsius)\n",
    "\n",
    "\n",
    "print(f\"{celsius}°C is equal to {fahrenheit}°F.\")\n"
   ]
  },
  {
   "cell_type": "code",
   "execution_count": 3,
   "id": "bcac1286-c44c-4fbe-82b6-e28e6f1eda77",
   "metadata": {},
   "outputs": [
    {
     "name": "stdout",
     "output_type": "stream",
     "text": [
      "\n",
      "--- Bank Account Menu ---\n",
      "1. Deposit\n",
      "2. Withdraw\n",
      "3. Check Balance\n",
      "4. Exit\n"
     ]
    },
    {
     "name": "stdin",
     "output_type": "stream",
     "text": [
      "Choose an option (1/2/3/4):  1\n",
      "Enter amount to deposit:  11000\n"
     ]
    },
    {
     "name": "stdout",
     "output_type": "stream",
     "text": [
      "$11000.0 deposited successfully.\n",
      "\n",
      "--- Bank Account Menu ---\n",
      "1. Deposit\n",
      "2. Withdraw\n",
      "3. Check Balance\n",
      "4. Exit\n"
     ]
    },
    {
     "name": "stdin",
     "output_type": "stream",
     "text": [
      "Choose an option (1/2/3/4):  3\n"
     ]
    },
    {
     "name": "stdout",
     "output_type": "stream",
     "text": [
      "Current balance: $12000.0\n",
      "\n",
      "--- Bank Account Menu ---\n",
      "1. Deposit\n",
      "2. Withdraw\n",
      "3. Check Balance\n",
      "4. Exit\n"
     ]
    },
    {
     "name": "stdin",
     "output_type": "stream",
     "text": [
      "Choose an option (1/2/3/4):  4\n"
     ]
    },
    {
     "name": "stdout",
     "output_type": "stream",
     "text": [
      "Thank you for using the bank system. Goodbye!\n"
     ]
    }
   ],
   "source": [
    "#Simulate a basic bank account with deposit, withdraw, and check balance methods.\n",
    "class BankAccount:\n",
    "    def __init__(self, account_holder, initial_balance=0):\n",
    "        self.account_holder = account_holder\n",
    "        self.balance = initial_balance\n",
    "\n",
    "    def deposit(self, amount):\n",
    "        if amount > 0:\n",
    "            self.balance += amount\n",
    "            print(f\"${amount} deposited successfully.\")\n",
    "        else:\n",
    "            print(\"Invalid deposit amount.\")\n",
    "\n",
    "    def withdraw(self, amount):\n",
    "        if amount > 0 and amount <= self.balance:\n",
    "            self.balance -= amount\n",
    "            print(f\"${amount} withdrawn successfully.\")\n",
    "        elif amount > self.balance:\n",
    "            print(\"Insufficient funds!\")\n",
    "        else:\n",
    "            print(\"Invalid withdrawal amount.\")\n",
    "\n",
    "    def check_balance(self):\n",
    "        print(f\"Current balance: ${self.balance}\")\n",
    "\n",
    "account = BankAccount(\"John Doe\", 1000)\n",
    "\n",
    "while True:\n",
    "    print(\"\\n--- Bank Account Menu ---\")\n",
    "    print(\"1. Deposit\")\n",
    "    print(\"2. Withdraw\")\n",
    "    print(\"3. Check Balance\")\n",
    "    print(\"4. Exit\")\n",
    "    \n",
    "    choice = input(\"Choose an option (1/2/3/4): \")\n",
    "\n",
    "    if choice == '1':\n",
    "        amount = float(input(\"Enter amount to deposit: \"))\n",
    "        account.deposit(amount)\n",
    "    elif choice == '2':\n",
    "        amount = float(input(\"Enter amount to withdraw: \"))\n",
    "        account.withdraw(amount)\n",
    "    elif choice == '3':\n",
    "        account.check_balance()\n",
    "    elif choice == '4':\n",
    "        print(\"Thank you for using the bank system. Goodbye!\")\n",
    "        break\n",
    "    else:\n",
    "        print(\"Invalid choice! Please select a valid option.\")\n"
   ]
  },
  {
   "cell_type": "code",
   "execution_count": 2,
   "id": "06530b18-b2a7-4717-bd94-956257d62581",
   "metadata": {},
   "outputs": [
    {
     "name": "stdin",
     "output_type": "stream",
     "text": [
      "Enter a sentence:  I'm Dinesh Kawade\n"
     ]
    },
    {
     "name": "stdout",
     "output_type": "stream",
     "text": [
      "'I'm': 1\n",
      "'Dinesh': 1\n",
      "'Kawade': 1\n"
     ]
    }
   ],
   "source": [
    "#Develop a program that takes a sentence as input and outputs the frequency of each word.\n",
    "from collections import Counter\n",
    "\n",
    "sentence = input(\"Enter a sentence: \")\n",
    "\n",
    "words = sentence.split()\n",
    "\n",
    "word_counts = Counter(words)\n",
    "\n",
    "for word, count in word_counts.items():\n",
    "    print(f\"'{word}': {count}\")\n"
   ]
  },
  {
   "cell_type": "code",
   "execution_count": null,
   "id": "b44132c2-cb29-4d09-a603-788e0588c8af",
   "metadata": {},
   "outputs": [],
   "source": []
  }
 ],
 "metadata": {
  "kernelspec": {
   "display_name": "Python 3 (ipykernel)",
   "language": "python",
   "name": "python3"
  },
  "language_info": {
   "codemirror_mode": {
    "name": "ipython",
    "version": 3
   },
   "file_extension": ".py",
   "mimetype": "text/x-python",
   "name": "python",
   "nbconvert_exporter": "python",
   "pygments_lexer": "ipython3",
   "version": "3.12.7"
  }
 },
 "nbformat": 4,
 "nbformat_minor": 5
}
