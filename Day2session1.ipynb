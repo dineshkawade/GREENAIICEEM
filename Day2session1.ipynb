{
 "cells": [
  {
   "cell_type": "code",
   "execution_count": 9,
   "id": "a9330fd2-27d1-4c34-a3f1-24c6e1e9c697",
   "metadata": {},
   "outputs": [
    {
     "name": "stdout",
     "output_type": "stream",
     "text": [
      "6\n",
      "[1, 2, 'three', 4.5, True, False, 100]\n",
      "[1, 2, 'three', 4.5, True, False, 100, [500, 600, 700]]\n",
      "8\n"
     ]
    }
   ],
   "source": [
    "#list method\n",
    "#append\n",
    "mylist =[1,2,\"three\",4.5,True,False]\n",
    "print(len(mylist))\n",
    "mylist.append(100)\n",
    "print(mylist)\n",
    "\n",
    "mylist.append([500,600,700])\n",
    "print(mylist)\n",
    "print(len(mylist))"
   ]
  },
  {
   "cell_type": "code",
   "execution_count": 19,
   "id": "15200a87-01d2-4922-b6e2-1a3d7c24a692",
   "metadata": {},
   "outputs": [
    {
     "name": "stdout",
     "output_type": "stream",
     "text": [
      "[1, 2, 'ICEEM', 'ICEEM', 'three', 4.5, True]\n",
      "7\n"
     ]
    }
   ],
   "source": [
    "#insert\n",
    "#can add position to object\n",
    "mylist.insert(2, \"ICEEM\")\n",
    "print(mylist)\n",
    "print(len(mylist))\n",
    "mylist.pop(3)\n",
    "#print(mylist)\n",
    "mylist.pop()\n",
    "mylist.append(100)\n"
   ]
  },
  {
   "cell_type": "code",
   "execution_count": 23,
   "id": "30649201-dd50-466a-b1cd-af98e45d9f58",
   "metadata": {},
   "outputs": [
    {
     "name": "stdout",
     "output_type": "stream",
     "text": [
      "[2, 'ICEEM', 'three', 100]\n"
     ]
    }
   ],
   "source": [
    "#remove\n",
    "mylist.remove(4.5)\n",
    "print(mylist)"
   ]
  },
  {
   "cell_type": "code",
   "execution_count": 24,
   "id": "f67d700f-a77e-4286-8af0-e2f05aa524ed",
   "metadata": {},
   "outputs": [],
   "source": [
    "#copy\n",
    "list1 = mylist.copy()"
   ]
  },
  {
   "cell_type": "code",
   "execution_count": 26,
   "id": "6c3f8608-9b00-476d-88ea-d1966ce745aa",
   "metadata": {},
   "outputs": [
    {
     "name": "stdout",
     "output_type": "stream",
     "text": [
      "[2, 'ICEEM', 'three', 100]\n"
     ]
    }
   ],
   "source": [
    "print(list1)"
   ]
  },
  {
   "cell_type": "code",
   "execution_count": 27,
   "id": "593fa596-29f8-4d42-8b31-fc0537413a52",
   "metadata": {},
   "outputs": [],
   "source": [
    "list2=[\"A\",\"B\"]"
   ]
  },
  {
   "cell_type": "code",
   "execution_count": 28,
   "id": "debfac8e-c97c-4b5a-bb50-cf6fecaba331",
   "metadata": {},
   "outputs": [],
   "source": [
    "#merge\n",
    "new_list = list1+list2"
   ]
  },
  {
   "cell_type": "code",
   "execution_count": 29,
   "id": "c61a539e-0b47-45ea-a2db-56e9e6667b57",
   "metadata": {},
   "outputs": [
    {
     "name": "stdout",
     "output_type": "stream",
     "text": [
      "[2, 'ICEEM', 'three', 100, 'A', 'B']\n"
     ]
    }
   ],
   "source": [
    "print(new_list)"
   ]
  },
  {
   "cell_type": "code",
   "execution_count": 31,
   "id": "6073f318-3286-4443-b967-8ecca22b1833",
   "metadata": {},
   "outputs": [
    {
     "name": "stdout",
     "output_type": "stream",
     "text": [
      "[2, 'ICEEM', 'three', 100, 'A', 'B', 'X', 'Y', 'X', 'Y']\n"
     ]
    }
   ],
   "source": [
    "#extend\n",
    "list3 = [\"X\",\"Y\"]\n",
    "new_list.extend(list3)\n",
    "print(new_list)"
   ]
  },
  {
   "cell_type": "code",
   "execution_count": 32,
   "id": "442e9fb0-fdd6-4e9b-8291-d26880da9588",
   "metadata": {},
   "outputs": [
    {
     "data": {
      "text/plain": [
       "[]"
      ]
     },
     "execution_count": 32,
     "metadata": {},
     "output_type": "execute_result"
    }
   ],
   "source": [
    "#clear\n",
    "new_list.clear()\n",
    "new_list"
   ]
  },
  {
   "cell_type": "code",
   "execution_count": 47,
   "id": "94cb1694-3545-4a24-a4af-5a7f82215e87",
   "metadata": {},
   "outputs": [
    {
     "name": "stdout",
     "output_type": "stream",
     "text": [
      "<class 'str'>\n",
      "iceem is a collage\n",
      "ICEEM IS A COLLAGE\n",
      "Iceem Is A Collage\n",
      "Iceem is a collage\n"
     ]
    }
   ],
   "source": [
    "#strings text data\n",
    "str1 = \"ICEEM is a collage\"\n",
    "print(type(str1))\n",
    "print(str1.lower())\n",
    "print(str1.upper())\n",
    "print(str1.title())\n",
    "print(str1.capitalize())"
   ]
  },
  {
   "cell_type": "code",
   "execution_count": 51,
   "id": "fa6778be-21e4-42b7-8629-a14858a4d157",
   "metadata": {},
   "outputs": [
    {
     "data": {
      "text/plain": [
       "'WANCHIT'"
      ]
     },
     "execution_count": 51,
     "metadata": {},
     "output_type": "execute_result"
    }
   ],
   "source": [
    "#replace method\n",
    "name = 'SANCHIT'\n",
    "name = name.replace(\"S\", \"W\")\n",
    "name"
   ]
  },
  {
   "cell_type": "code",
   "execution_count": 55,
   "id": "3f288802-4602-4867-863a-890b1c5703e8",
   "metadata": {},
   "outputs": [
    {
     "data": {
      "text/plain": [
       "2"
      ]
     },
     "execution_count": 55,
     "metadata": {},
     "output_type": "execute_result"
    }
   ],
   "source": [
    "#count method\n",
    "mystr5 = \"one two three one two three\"\n",
    "mystr5.count(\"two\")"
   ]
  },
  {
   "cell_type": "code",
   "execution_count": 56,
   "id": "ae7c9e44-cad0-4c01-b93e-1f03e548a9b1",
   "metadata": {},
   "outputs": [
    {
     "data": {
      "text/plain": [
       "False"
      ]
     },
     "execution_count": 56,
     "metadata": {},
     "output_type": "execute_result"
    }
   ],
   "source": [
    "name.startswith(\"S\")"
   ]
  },
  {
   "cell_type": "code",
   "execution_count": 57,
   "id": "ddeff364-df67-4bc7-8f32-3bb0feb3f7fb",
   "metadata": {},
   "outputs": [
    {
     "data": {
      "text/plain": [
       "True"
      ]
     },
     "execution_count": 57,
     "metadata": {},
     "output_type": "execute_result"
    }
   ],
   "source": [
    "name.startswith(\"W\")"
   ]
  },
  {
   "cell_type": "code",
   "execution_count": 59,
   "id": "adf99976-8020-4660-8aeb-0dddc840e3cd",
   "metadata": {},
   "outputs": [
    {
     "data": {
      "text/plain": [
       "True"
      ]
     },
     "execution_count": 59,
     "metadata": {},
     "output_type": "execute_result"
    }
   ],
   "source": [
    "name.endswith(\"T\")"
   ]
  },
  {
   "cell_type": "code",
   "execution_count": 64,
   "id": "b5e7be04-c93b-4b1a-852b-3620b696f8c8",
   "metadata": {},
   "outputs": [
    {
     "name": "stdout",
     "output_type": "stream",
     "text": [
      "['SANCHIT', 'is', 'cretified', 'CHINAR', '&', 'It', 'is', 'TRANSGENDER', '&', 'also', 'its', 'GAY']\n",
      "[' SANCHIT is cretified CHINAR ', ' It is TRANSGENDER ', ' also its GAY']\n"
     ]
    }
   ],
   "source": [
    "# split\n",
    "str1 =\" SANCHIT is cretified CHINAR & It is TRANSGENDER & also it's GAY\"\n",
    "print(str1.split())\n",
    "print(str1.split(\"&\"))\n"
   ]
  },
  {
   "cell_type": "code",
   "execution_count": 71,
   "id": "e794c141-d274-4853-905d-684f5828af26",
   "metadata": {},
   "outputs": [
    {
     "name": "stdout",
     "output_type": "stream",
     "text": [
      "C\n",
      "E\n"
     ]
    }
   ],
   "source": [
    "# indxing --> positions of elements \n",
    "\n",
    "str1 = \"ICEEM\"\n",
    "\n",
    "print(str1[1])\n",
    "print(str1[-2])\n"
   ]
  },
  {
   "cell_type": "code",
   "execution_count": 81,
   "id": "d924c724-09ab-477f-94cc-0d8ee41ba0b5",
   "metadata": {},
   "outputs": [
    {
     "name": "stdout",
     "output_type": "stream",
     "text": [
      "MEECI\n"
     ]
    }
   ],
   "source": [
    "#REVERSING\n",
    "str= \" ICEEM\"\n",
    "print(str[-1:-6:-1])"
   ]
  },
  {
   "cell_type": "code",
   "execution_count": 86,
   "id": "41d4fa59-24a9-4f40-9b82-e19403160a0d",
   "metadata": {},
   "outputs": [
    {
     "data": {
      "text/plain": [
       "2"
      ]
     },
     "execution_count": 86,
     "metadata": {},
     "output_type": "execute_result"
    }
   ],
   "source": [
    "#Dictionary\n",
    "#collection of data in form of key of value pair \n",
    "my_student = {\"name\":\"Amit\", \"Age\":23}\n",
    "len(my_student)"
   ]
  },
  {
   "cell_type": "code",
   "execution_count": 87,
   "id": "8d7f9391-48a5-4858-b794-241411a044c8",
   "metadata": {},
   "outputs": [
    {
     "data": {
      "text/plain": [
       "'Amit'"
      ]
     },
     "execution_count": 87,
     "metadata": {},
     "output_type": "execute_result"
    }
   ],
   "source": [
    "my_student[\"name\"]"
   ]
  },
  {
   "cell_type": "code",
   "execution_count": 90,
   "id": "c60a1e51-28f1-4c5e-b0ba-f4d28c6b56f2",
   "metadata": {},
   "outputs": [
    {
     "data": {
      "text/plain": [
       "{'student1': {'name': 'Amit', 'Age': 30},\n",
       " 'student2': {'name': 'Sumit', 'Age': 28}}"
      ]
     },
     "execution_count": 90,
     "metadata": {},
     "output_type": "execute_result"
    }
   ],
   "source": [
    "students = {\n",
    "    \"student1\": {\"name\":\"Amit\", \"Age\":30},\n",
    "    \"student2\": {\"name\":\"Sumit\", \"Age\":28}\n",
    "}\n",
    "students"
   ]
  },
  {
   "cell_type": "code",
   "execution_count": 95,
   "id": "2dca6415-5f1c-440a-9fb9-471fcccd0a91",
   "metadata": {},
   "outputs": [
    {
     "data": {
      "text/plain": [
       "28"
      ]
     },
     "execution_count": 95,
     "metadata": {},
     "output_type": "execute_result"
    }
   ],
   "source": [
    "students[\"student2\"][\"Age\"]"
   ]
  },
  {
   "cell_type": "code",
   "execution_count": 96,
   "id": "8524115f-9759-4567-9f1d-8404a1559545",
   "metadata": {},
   "outputs": [
    {
     "data": {
      "text/plain": [
       "dict_keys(['student1', 'student2'])"
      ]
     },
     "execution_count": 96,
     "metadata": {},
     "output_type": "execute_result"
    }
   ],
   "source": [
    "#DIctionary methods\n",
    "\n",
    "students.keys()"
   ]
  },
  {
   "cell_type": "code",
   "execution_count": 97,
   "id": "da52537d-a0f7-4a12-9fb9-b2ef6ea3ef06",
   "metadata": {},
   "outputs": [
    {
     "data": {
      "text/plain": [
       "dict_values([{'name': 'Amit', 'Age': 30}, {'name': 'Sumit', 'Age': 28}])"
      ]
     },
     "execution_count": 97,
     "metadata": {},
     "output_type": "execute_result"
    }
   ],
   "source": [
    "students.values()"
   ]
  },
  {
   "cell_type": "code",
   "execution_count": 98,
   "id": "4227bcf4-ccdc-4baf-a593-49e52fd1f357",
   "metadata": {},
   "outputs": [
    {
     "data": {
      "text/plain": [
       "dict_items([('student1', {'name': 'Amit', 'Age': 30}), ('student2', {'name': 'Sumit', 'Age': 28})])"
      ]
     },
     "execution_count": 98,
     "metadata": {},
     "output_type": "execute_result"
    }
   ],
   "source": [
    "students.items()"
   ]
  },
  {
   "cell_type": "code",
   "execution_count": 99,
   "id": "da7e0a54-ac9a-4507-93d7-6691842eb576",
   "metadata": {},
   "outputs": [
    {
     "data": {
      "text/plain": [
       "{1, 2, 3, 4, 5, 6, 7, 8, 9}"
      ]
     },
     "execution_count": 99,
     "metadata": {},
     "output_type": "execute_result"
    }
   ],
   "source": [
    "myset = {1,2,3,4,5,6,7,8,9,1,2,3,4}\n",
    "myset"
   ]
  },
  {
   "cell_type": "code",
   "execution_count": 100,
   "id": "3f97f6b7-c24e-4ddd-acca-329354bb6f5e",
   "metadata": {},
   "outputs": [
    {
     "data": {
      "text/plain": [
       "{1, 2, 3, 4, 5, 6, 7, 8, 9, 50}"
      ]
     },
     "execution_count": 100,
     "metadata": {},
     "output_type": "execute_result"
    }
   ],
   "source": [
    "# Set methods\n",
    "myset.add(50)\n",
    "myset"
   ]
  },
  {
   "cell_type": "code",
   "execution_count": 101,
   "id": "33e329ab-0781-4e27-9afc-edf0b43dd3f6",
   "metadata": {},
   "outputs": [
    {
     "data": {
      "text/plain": [
       "{1, 2, 3, 4, 5, 6, 7, 8, 9, 50, 60, 70, 80}"
      ]
     },
     "execution_count": 101,
     "metadata": {},
     "output_type": "execute_result"
    }
   ],
   "source": [
    "myset.update([60,70,80])\n",
    "myset"
   ]
  },
  {
   "cell_type": "code",
   "execution_count": 106,
   "id": "238231f1-34a3-4063-af36-1dca6077270f",
   "metadata": {},
   "outputs": [
    {
     "ename": "KeyError",
     "evalue": "80",
     "output_type": "error",
     "traceback": [
      "\u001b[1;31m---------------------------------------------------------------------------\u001b[0m",
      "\u001b[1;31mKeyError\u001b[0m                                  Traceback (most recent call last)",
      "Cell \u001b[1;32mIn[106], line 1\u001b[0m\n\u001b[1;32m----> 1\u001b[0m myset\u001b[38;5;241m.\u001b[39mremove(\u001b[38;5;241m80\u001b[39m)\n",
      "\u001b[1;31mKeyError\u001b[0m: 80"
     ]
    }
   ],
   "source": [
    "myset.remove(80)"
   ]
  },
  {
   "cell_type": "code",
   "execution_count": 103,
   "id": "6b898bae-80b4-4885-bf89-f3fc6ddbe2d1",
   "metadata": {},
   "outputs": [
    {
     "data": {
      "text/plain": [
       "{1, 2, 3, 4, 5, 6, 7, 8, 9, 50, 60, 70}"
      ]
     },
     "execution_count": 103,
     "metadata": {},
     "output_type": "execute_result"
    }
   ],
   "source": [
    "myset"
   ]
  },
  {
   "cell_type": "code",
   "execution_count": 105,
   "id": "0ae99cea-05fc-4190-add3-bc4506ef41be",
   "metadata": {},
   "outputs": [
    {
     "data": {
      "text/plain": [
       "{1, 2, 3, 4, 5, 6, 7, 8, 9, 50, 60, 70}"
      ]
     },
     "execution_count": 105,
     "metadata": {},
     "output_type": "execute_result"
    }
   ],
   "source": [
    "myset.discard(80)\n",
    "myset            "
   ]
  },
  {
   "cell_type": "code",
   "execution_count": 145,
   "id": "6c2ca4bf-69b5-4b75-b9ec-306a708bf581",
   "metadata": {},
   "outputs": [
    {
     "name": "stdin",
     "output_type": "stream",
     "text": [
      "Enter Number: 90\n"
     ]
    },
    {
     "name": "stdout",
     "output_type": "stream",
     "text": [
      "Grade A\n"
     ]
    }
   ],
   "source": [
    "#conditinal statements/ if else\n",
    "# IF, ELIF& ELSE\n",
    "num=eval( input(\"Enter Number:\"))\n",
    "if  num>=80:\n",
    "    print(\"Grade A\")\n",
    "else:\n",
    "    print(\"Grade B\")"
   ]
  },
  {
   "cell_type": "code",
   "execution_count": 159,
   "id": "62462e1c-b1c6-4bdf-b255-ecf0c3e467f6",
   "metadata": {},
   "outputs": [
    {
     "name": "stdin",
     "output_type": "stream",
     "text": [
      "Enter username dinesh\n",
      "Enter your pin: 6464\n"
     ]
    },
    {
     "name": "stdout",
     "output_type": "stream",
     "text": [
      "Welcome DK\n"
     ]
    }
   ],
   "source": [
    "#ATM PROGRAM\n",
    "username= input(\"Enter username\")\n",
    "if username==\"dinesh\":\n",
    "    password=int(input(\"Enter your pin:\"))\n",
    "    if password==6464:\n",
    "                        print(\"Welcome DK\")\n",
    "else:\n",
    "    \n",
    "     print(\"Invalid user\")"
   ]
  },
  {
   "cell_type": "code",
   "execution_count": null,
   "id": "3c699031-9d6b-4c22-a226-20ba074a1ee8",
   "metadata": {},
   "outputs": [],
   "source": []
  }
 ],
 "metadata": {
  "kernelspec": {
   "display_name": "Python 3 (ipykernel)",
   "language": "python",
   "name": "python3"
  },
  "language_info": {
   "codemirror_mode": {
    "name": "ipython",
    "version": 3
   },
   "file_extension": ".py",
   "mimetype": "text/x-python",
   "name": "python",
   "nbconvert_exporter": "python",
   "pygments_lexer": "ipython3",
   "version": "3.12.7"
  }
 },
 "nbformat": 4,
 "nbformat_minor": 5
}
