{
 "cells": [
  {
   "cell_type": "code",
   "execution_count": 1,
   "id": "2d08a02a-5f50-4943-81a0-4f5697fd2bec",
   "metadata": {},
   "outputs": [
    {
     "name": "stdout",
     "output_type": "stream",
     "text": [
      "hello\n"
     ]
    }
   ],
   "source": [
    "  print(\"hello\")"
   ]
  },
  {
   "cell_type": "code",
   "execution_count": 5,
   "id": "3189477e-3892-4b5e-8336-ec19c8a5b0b7",
   "metadata": {},
   "outputs": [
    {
     "name": "stdout",
     "output_type": "stream",
     "text": [
      "11\n"
     ]
    }
   ],
   "source": [
    "a=5\n",
    "b=6\n",
    "c=a+b\n",
    "print(c)"
   ]
  },
  {
   "cell_type": "code",
   "execution_count": 9,
   "id": "f58fe4db-b3c2-482a-a314-3cf7801cd196",
   "metadata": {},
   "outputs": [],
   "source": [
    "#Comments\n",
    "''' hi don \n",
    "by don\n",
    "'''\n",
    "a=5"
   ]
  },
  {
   "cell_type": "code",
   "execution_count": 10,
   "id": "e974a9cc-f6c9-40b9-ae9e-bafb51ea3322",
   "metadata": {},
   "outputs": [
    {
     "name": "stdout",
     "output_type": "stream",
     "text": [
      "['False', 'None', 'True', 'and', 'as', 'assert', 'async', 'await', 'break', 'class', 'continue', 'def', 'del', 'elif', 'else', 'except', 'finally', 'for', 'from', 'global', 'if', 'import', 'in', 'is', 'lambda', 'nonlocal', 'not', 'or', 'pass', 'raise', 'return', 'try', 'while', 'with', 'yield']\n"
     ]
    }
   ],
   "source": [
    "import keyword\n",
    "print(keyword.kwlist)"
   ]
  },
  {
   "cell_type": "code",
   "execution_count": 11,
   "id": "0d4ebf23-9c11-489c-b1f7-6da43c640849",
   "metadata": {},
   "outputs": [
    {
     "data": {
      "text/plain": [
       "35"
      ]
     },
     "execution_count": 11,
     "metadata": {},
     "output_type": "execute_result"
    }
   ],
   "source": [
    "len(keyword.kwlist)"
   ]
  },
  {
   "cell_type": "markdown",
   "id": "d4c4c919-dccb-40ba-adb9-b9afbf6f8dfa",
   "metadata": {},
   "source": []
  },
  {
   "cell_type": "code",
   "execution_count": 12,
   "id": "4d2be582-e6c9-442d-8156-c3d52c84a27e",
   "metadata": {},
   "outputs": [
    {
     "name": "stdout",
     "output_type": "stream",
     "text": [
      "ICEEM\n"
     ]
    }
   ],
   "source": [
    "name = \"ICEEM\"\n",
    "print(name)\n"
   ]
  },
  {
   "cell_type": "code",
   "execution_count": 13,
   "id": "83defd1e-e724-428d-bb29-5c7976c2b67a",
   "metadata": {},
   "outputs": [
    {
     "name": "stdout",
     "output_type": "stream",
     "text": [
      "0x1d47d56a280\n"
     ]
    }
   ],
   "source": [
    "print(hex(id(name)))"
   ]
  },
  {
   "cell_type": "code",
   "execution_count": 14,
   "id": "7c18f598-6857-4c89-a5fb-4e72341f44e5",
   "metadata": {},
   "outputs": [
    {
     "name": "stdout",
     "output_type": "stream",
     "text": [
      "30\n"
     ]
    }
   ],
   "source": [
    "sum = 10 +20\n",
    "print(sum)"
   ]
  },
  {
   "cell_type": "code",
   "execution_count": 16,
   "id": "e1e9be92-d15e-492c-ab86-d4406b12a6b8",
   "metadata": {},
   "outputs": [
    {
     "name": "stdout",
     "output_type": "stream",
     "text": [
      "0x7ffac6162d58\n"
     ]
    }
   ],
   "source": [
    "\n",
    "print(hex(id(sum)))"
   ]
  },
  {
   "cell_type": "code",
   "execution_count": 18,
   "id": "cd1d6534-b76a-46d4-83a1-3c2ad0ec9eca",
   "metadata": {},
   "outputs": [
    {
     "name": "stdout",
     "output_type": "stream",
     "text": [
      "30\n"
     ]
    }
   ],
   "source": [
    "a=10\n",
    "c=a+b\n",
    "b=20\n",
    "print(c)"
   ]
  },
  {
   "cell_type": "code",
   "execution_count": 19,
   "id": "775c8949-3395-4498-9496-ccfb74371d74",
   "metadata": {},
   "outputs": [
    {
     "name": "stdout",
     "output_type": "stream",
     "text": [
      "DINESH\n"
     ]
    }
   ],
   "source": [
    "print(\"DINESH\")"
   ]
  },
  {
   "cell_type": "code",
   "execution_count": 23,
   "id": "be06c36e-ed38-4117-87c0-c82256a16a5b",
   "metadata": {},
   "outputs": [
    {
     "name": "stdin",
     "output_type": "stream",
     "text": [
      "Enter any number 70\n",
      "Enter another number 17\n"
     ]
    },
    {
     "name": "stdout",
     "output_type": "stream",
     "text": [
      "87\n"
     ]
    }
   ],
   "source": [
    "#Input function\n",
    "a = int(input(\"Enter any number\"))\n",
    "b= int(input(\"Enter another number\"))\n",
    "c=a+b\n",
    "print(c)"
   ]
  },
  {
   "cell_type": "markdown",
   "id": "86b9e0b7-6f72-4f62-9de4-e29225fe62a6",
   "metadata": {},
   "source": [
    "lname = (input(\"Enter your lname\")"
   ]
  },
  {
   "cell_type": "code",
   "execution_count": 34,
   "id": "5060626f-bef2-4463-8e3d-3d02e4463673",
   "metadata": {},
   "outputs": [
    {
     "name": "stdin",
     "output_type": "stream",
     "text": [
      "Enter your fname d\n",
      "Enter your lname k\n"
     ]
    },
    {
     "name": "stdout",
     "output_type": "stream",
     "text": [
      "d||k\n"
     ]
    }
   ],
   "source": [
    "fname = (input(\"Enter your fname\"))\n",
    "lname=(input(\"Enter your lname\"))\n",
    "print(fname, lname, sep=\"||\")"
   ]
  },
  {
   "cell_type": "code",
   "execution_count": 36,
   "id": "402de2ea-e0a4-4514-9ff7-db9da27d6eeb",
   "metadata": {},
   "outputs": [
    {
     "name": "stdout",
     "output_type": "stream",
     "text": [
      "d  k\n"
     ]
    }
   ],
   "source": [
    "print(fname, end=\"  \")\n",
    "print(lname)"
   ]
  },
  {
   "cell_type": "code",
   "execution_count": 41,
   "id": "b404934e-8ef1-4643-90b7-eef335e89000",
   "metadata": {},
   "outputs": [
    {
     "name": "stdout",
     "output_type": "stream",
     "text": [
      "10||20||5.6\n"
     ]
    }
   ],
   "source": [
    "a, b, c = \"10\" , 20, 5.6\n",
    "print(a,b,c,sep=\"||\")"
   ]
  },
  {
   "cell_type": "code",
   "execution_count": 42,
   "id": "189c7edf-2035-4478-aa1a-c8b9ea7dd46a",
   "metadata": {},
   "outputs": [
    {
     "name": "stdout",
     "output_type": "stream",
     "text": [
      "d k\n",
      "my first name is  d my last name is k\n"
     ]
    }
   ],
   "source": [
    "print(fname, lname)\n",
    "print(\"my first name is \", fname, \"my last name is\",lname)"
   ]
  },
  {
   "cell_type": "code",
   "execution_count": 48,
   "id": "e840c393-caf2-4b46-a1b5-90f86cb389b7",
   "metadata": {},
   "outputs": [
    {
     "name": "stdout",
     "output_type": "stream",
     "text": [
      "my first name is d my last name is k \n",
      "my first name is d my last name is k \n"
     ]
    }
   ],
   "source": [
    "#format method\n",
    "print(\"my first name is {} my last name is {} \".format(fname,lname))\n",
    "print(f\"my first name is {fname} my last name is {lname} \".format(fname,lname))"
   ]
  },
  {
   "cell_type": "code",
   "execution_count": 54,
   "id": "d2255785-8ef7-4b00-aa6c-75d885baf102",
   "metadata": {},
   "outputs": [
    {
     "name": "stdout",
     "output_type": "stream",
     "text": [
      "<class 'int'>\n",
      "<class 'bool'>\n"
     ]
    }
   ],
   "source": [
    "x=10\n",
    "print(type(x))\n",
    "z=True\n",
    "print(type(z))"
   ]
  },
  {
   "cell_type": "code",
   "execution_count": 56,
   "id": "4a25be85-f9d3-4fd4-aafc-7db1c10ad173",
   "metadata": {},
   "outputs": [
    {
     "name": "stdout",
     "output_type": "stream",
     "text": [
      "<class 'list'>\n"
     ]
    }
   ],
   "source": [
    "mylist = [1, 2, 3, 4]\n",
    "print(type(mylist))"
   ]
  },
  {
   "cell_type": "code",
   "execution_count": 57,
   "id": "6bae9193-9a93-4999-bcb3-4422c0cb2d63",
   "metadata": {},
   "outputs": [
    {
     "name": "stdout",
     "output_type": "stream",
     "text": [
      "<class 'tuple'>\n"
     ]
    }
   ],
   "source": [
    "mytuple = (1,2,3,4)\n",
    "print(type(mytuple))"
   ]
  },
  {
   "cell_type": "code",
   "execution_count": 58,
   "id": "2b338543-e2f0-446f-86e0-778a7c0f6608",
   "metadata": {},
   "outputs": [
    {
     "ename": "TypeError",
     "evalue": "'tuple' object does not support item assignment",
     "output_type": "error",
     "traceback": [
      "\u001b[1;31m---------------------------------------------------------------------------\u001b[0m",
      "\u001b[1;31mTypeError\u001b[0m                                 Traceback (most recent call last)",
      "Cell \u001b[1;32mIn[58], line 2\u001b[0m\n\u001b[0;32m      1\u001b[0m mytuple \u001b[38;5;241m=\u001b[39m(\u001b[38;5;241m1\u001b[39m,\u001b[38;5;241m2\u001b[39m,\u001b[38;5;241m3\u001b[39m,\u001b[38;5;241m4\u001b[39m)\n\u001b[1;32m----> 2\u001b[0m mytuple[\u001b[38;5;241m2\u001b[39m]\u001b[38;5;241m=\u001b[39m\u001b[38;5;241m30\u001b[39m\n",
      "\u001b[1;31mTypeError\u001b[0m: 'tuple' object does not support item assignment"
     ]
    }
   ],
   "source": [
    "mytuple =(1,2,3,4)\n",
    "mytuple[2]=30"
   ]
  },
  {
   "cell_type": "code",
   "execution_count": null,
   "id": "bf5b4c21-a3ba-4360-9200-5a395d8623b6",
   "metadata": {},
   "outputs": [],
   "source": []
  }
 ],
 "metadata": {
  "kernelspec": {
   "display_name": "Python 3 (ipykernel)",
   "language": "python",
   "name": "python3"
  },
  "language_info": {
   "codemirror_mode": {
    "name": "ipython",
    "version": 3
   },
   "file_extension": ".py",
   "mimetype": "text/x-python",
   "name": "python",
   "nbconvert_exporter": "python",
   "pygments_lexer": "ipython3",
   "version": "3.12.7"
  }
 },
 "nbformat": 4,
 "nbformat_minor": 5
}
